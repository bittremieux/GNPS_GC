{
 "cells": [
  {
   "cell_type": "code",
   "execution_count": null,
   "metadata": {},
   "outputs": [],
   "source": [
    "import collections\n",
    "import functools\n",
    "import logging\n",
    "import os\n",
    "\n",
    "import matplotlib.pyplot as plt\n",
    "import pandas as pd\n",
    "import seaborn as sns\n",
    "from matplotlib_venn import venn2, venn2_circles\n",
    "from rdkit import Chem"
   ]
  },
  {
   "cell_type": "code",
   "execution_count": null,
   "metadata": {},
   "outputs": [],
   "source": [
    "plt.style.use(['seaborn-white', 'seaborn-paper'])\n",
    "plt.rc('font', family='serif')\n",
    "sns.set_palette('Set1')\n",
    "sns.set_context('paper', font_scale=1.3)\n",
    "\n",
    "logging.basicConfig(format='%(asctime)s [%(levelname)s/%(processName)s] '\n",
    "                           '%(module)s.%(funcName)s : %(message)s',\n",
    "                    level=logging.INFO)"
   ]
  },
  {
   "cell_type": "code",
   "execution_count": null,
   "metadata": {},
   "outputs": [],
   "source": [
    "@functools.lru_cache(None)\n",
    "def smiles_to_inchikey(smiles):\n",
    "    try:\n",
    "        mol = Chem.rdmolfiles.MolFromSmiles(smiles)\n",
    "    except ValueError:\n",
    "        mol = None\n",
    "    return Chem.rdinchi.MolToInchiKey(mol) if mol is not None else None"
   ]
  },
  {
   "cell_type": "code",
   "execution_count": null,
   "metadata": {},
   "outputs": [],
   "source": [
    "data_dir = '../data/public_commercial_library'"
   ]
  },
  {
   "cell_type": "code",
   "execution_count": null,
   "metadata": {},
   "outputs": [],
   "source": [
    "task_ids = {'Public libraries': '6a8bec14',\n",
    "            'Commercial libraries': '65ece253'}\n",
    "\n",
    "identifications = collections.defaultdict(\n",
    "    lambda: collections.defaultdict(dict))\n",
    "for top in (1, 10):\n",
    "    for library, task_id in task_ids.items():\n",
    "        # Read the GNPS task file.\n",
    "        usecols = ['#Scan#', 'INCHI', 'Smiles', 'MQScore',\n",
    "                   'Balance_score(percentage)', 'SharedPeaks']\n",
    "        ids = (\n",
    "            pd.read_csv(\n",
    "                os.path.join(\n",
    "                    data_dir, f'MOLECULAR-LIBRARYSEARCH-GC-{task_id}-'\n",
    "                    f'view_all_annotations_DB-main.tsv'),\n",
    "                sep='\\t', usecols=usecols, skipinitialspace=True)\n",
    "            .dropna()\n",
    "            .sort_values(['#Scan#', 'MQScore'], ascending=[True, False])\n",
    "            .groupby('#Scan#').head(top))\n",
    "        # Require a minimum cosine score of 0.8, minimum balance score of\n",
    "        # 80%, and more than 10 matched peaks.\n",
    "        ids = ids[(ids['MQScore'] > 0.8) &\n",
    "                  (ids['Balance_score(percentage)'] > 80) &\n",
    "                  (ids['SharedPeaks'] > 10)]\n",
    "        # Get InChIKeys for all identifications.\n",
    "        ids['InChIKey'] = ids['Smiles'].apply(smiles_to_inchikey)\n",
    "        ids.dropna()\n",
    "\n",
    "        identifications[top][library] = ids"
   ]
  },
  {
   "cell_type": "code",
   "execution_count": null,
   "metadata": {
    "code_folding": []
   },
   "outputs": [],
   "source": [
    "height = 8\n",
    "width = height\n",
    "num_col = len(identifications)\n",
    "fig, axes = plt.subplots(1, num_col, figsize=(width * num_col, height))\n",
    "\n",
    "for ax, (top, top_ids) in zip(axes, identifications.items()):\n",
    "    sets =[set(library_ids['InChIKey']) for library_ids in top_ids.values()]\n",
    "    v = venn2(sets, set_labels=top_ids.keys(), ax=ax)\n",
    "    c = venn2_circles(sets, linewidth=1.0, ax=ax)\n",
    "    for text in v.subset_labels:\n",
    "        if text is not None:\n",
    "            text.set_fontsize('large')\n",
    "\n",
    "    ax.set_title(f'Top = {top}', fontsize='large')\n",
    "\n",
    "plt.savefig('public_commercial_library.png', dpi=300, bbox_inches='tight')\n",
    "plt.show()\n",
    "plt.close()"
   ]
  },
  {
   "cell_type": "code",
   "execution_count": null,
   "metadata": {},
   "outputs": [],
   "source": [
    "logging.shutdown()"
   ]
  }
 ],
 "metadata": {
  "kernelspec": {
   "display_name": "Python 3",
   "language": "python",
   "name": "python3"
  },
  "language_info": {
   "codemirror_mode": {
    "name": "ipython",
    "version": 3
   },
   "file_extension": ".py",
   "mimetype": "text/x-python",
   "name": "python",
   "nbconvert_exporter": "python",
   "pygments_lexer": "ipython3",
   "version": "3.8.2"
  }
 },
 "nbformat": 4,
 "nbformat_minor": 2
}
