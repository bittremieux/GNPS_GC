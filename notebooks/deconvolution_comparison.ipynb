{
 "cells": [
  {
   "cell_type": "code",
   "execution_count": 1,
   "metadata": {},
   "outputs": [],
   "source": [
    "import collections\n",
    "import functools\n",
    "import http\n",
    "import json\n",
    "import logging\n",
    "import os\n",
    "import urllib\n",
    "\n",
    "import matplotlib.pyplot as plt\n",
    "import matplotlib.ticker as mticker\n",
    "import pandas as pd\n",
    "import seaborn as sns\n",
    "from rdkit import Chem\n",
    "from tqdm.notebook import tqdm"
   ]
  },
  {
   "cell_type": "code",
   "execution_count": 2,
   "metadata": {},
   "outputs": [
    {
     "name": "stderr",
     "output_type": "stream",
     "text": [
      "/home/wout/.conda/envs/dorrestein/lib/python3.7/site-packages/tqdm/std.py:658: FutureWarning: The Panel class is removed from pandas. Accessing it from the top-level namespace will also be removed in the next version\n",
      "  from pandas import Panel\n"
     ]
    }
   ],
   "source": [
    "plt.style.use(['seaborn-white', 'seaborn-paper'])\n",
    "plt.rc('font', family='serif')\n",
    "sns.set_palette('Set1')\n",
    "sns.set_context('paper', font_scale=1.3)\n",
    "\n",
    "tqdm.pandas(leave=False)\n",
    "\n",
    "logging.basicConfig(format='%(asctime)s [%(levelname)s/%(processName)s] '\n",
    "                           '%(module)s.%(funcName)s : %(message)s',\n",
    "                    level=logging.INFO)"
   ]
  },
  {
   "cell_type": "code",
   "execution_count": 3,
   "metadata": {},
   "outputs": [],
   "source": [
    "@functools.lru_cache(None)\n",
    "def pubchem_name_to_inchikey(name):\n",
    "    try:\n",
    "        with urllib.request.urlopen(\n",
    "                f'https://pubchem.ncbi.nlm.nih.gov/rest/pug/compound/name/'\n",
    "                f'{name}/property/inchikey/TXT') as f_url:\n",
    "            return f_url.read().decode().strip().split()[0]\n",
    "    except urllib.error.HTTPError:\n",
    "        return None\n",
    "\n",
    "    \n",
    "@functools.lru_cache(None)\n",
    "def smiles_to_inchikey(smiles):\n",
    "    try:\n",
    "        mol = Chem.rdmolfiles.MolFromSmiles(smiles)\n",
    "    except ValueError:\n",
    "        mol = None\n",
    "    return Chem.rdinchi.MolToInchiKey(mol) if mol is not None else None\n",
    "\n",
    "\n",
    "@functools.lru_cache(None)\n",
    "def inchikey_to_subclass(inchikey):\n",
    "    try:\n",
    "        with urllib.request.urlopen(f'https://gnps-classyfire.ucsd.edu/'\n",
    "                                    f'entities/{inchikey}.json') \\\n",
    "                as f_url:\n",
    "            return json.loads(f_url.read())['subclass']['chemont_id']\n",
    "    except (urllib.error.HTTPError, AttributeError, TypeError, KeyError):\n",
    "        return None"
   ]
  },
  {
   "cell_type": "code",
   "execution_count": 4,
   "metadata": {},
   "outputs": [],
   "source": [
    "def get_matched_perc(identifications):\n",
    "    tops, datasets, tools, match_type, perc_matched = [], [], [], [], []\n",
    "    for top, dataset_ids in identifications.items():\n",
    "        for dataset, tool_ids in dataset_ids.items():\n",
    "            for tool, ids in tool_ids.items():\n",
    "                tops.append(top)\n",
    "                datasets.append(dataset)\n",
    "                tools.append(tool)\n",
    "                match_type.append('Direct match')\n",
    "                perc_matched.append(\n",
    "                    len(set(ids['InChIKey']) & compounds[dataset])\n",
    "                    / len(compounds[dataset]))\n",
    "                tops.append(top)\n",
    "                datasets.append(dataset)\n",
    "                tools.append(tool)\n",
    "                match_type.append('Subclass match')\n",
    "                perc_matched.append(\n",
    "                    len(set(ids['subclass']) & subclasses[dataset])\n",
    "                    / len(subclasses[dataset]))\n",
    "\n",
    "    return pd.DataFrame({'Dataset': datasets, 'Tool': tools, 'Top': tops,\n",
    "                         'Type': match_type,\n",
    "                         'Compounds identified': perc_matched})"
   ]
  },
  {
   "cell_type": "code",
   "execution_count": 5,
   "metadata": {},
   "outputs": [],
   "source": [
    "data_dir = '../data/deconvolution_comparison'\n",
    "compounds = {\n",
    "    'Metabolomics Workbench ST001154':\n",
    "        set(pd.read_csv(os.path.join(\n",
    "            data_dir, 'Metabolomics Workbench ST001154.csv'))['InChiKey']),\n",
    "    'LECO beer aging':\n",
    "        set(pd.read_csv(os.path.join(data_dir, 'LECO beer aging.csv'))\n",
    "            ['Name'].apply(pubchem_name_to_inchikey)),\n",
    "    'TMS derivatized blood serum':\n",
    "        set(pd.read_csv(os.path.join(\n",
    "                data_dir, 'TMS derivatized blood serum.csv'))['SMILES']\n",
    "            .apply(smiles_to_inchikey))\n",
    "}\n",
    "subclasses = {dataset: set([inchikey_to_subclass(inchikey)\n",
    "                            for inchikey in comp])\n",
    "              for dataset, comp in compounds.items()}\n",
    "for sc in subclasses.values():\n",
    "    sc.discard(None)"
   ]
  },
  {
   "cell_type": "code",
   "execution_count": 6,
   "metadata": {},
   "outputs": [
    {
     "name": "stderr",
     "output_type": "stream",
     "text": [
      "2020-04-02 16:48:27,084 [INFO/MainProcess] <ipython-input-6-d1de5f21703a>.<module> : Process Metabolomics Workbench ST001154\n",
      "2020-04-02 16:48:27,085 [INFO/MainProcess] <ipython-input-6-d1de5f21703a>.<module> : MSHub identifications\n"
     ]
    },
    {
     "data": {
      "application/vnd.jupyter.widget-view+json": {
       "model_id": "",
       "version_major": 2,
       "version_minor": 0
      },
      "text/plain": [
       "HBox(children=(FloatProgress(value=0.0, max=486.0), HTML(value='')))"
      ]
     },
     "metadata": {},
     "output_type": "display_data"
    },
    {
     "name": "stderr",
     "output_type": "stream",
     "text": [
      "2020-04-02 16:49:08,941 [INFO/MainProcess] <ipython-input-6-d1de5f21703a>.<module> : MZmine identifications\n"
     ]
    },
    {
     "name": "stdout",
     "output_type": "stream",
     "text": [
      "\r"
     ]
    },
    {
     "data": {
      "application/vnd.jupyter.widget-view+json": {
       "model_id": "",
       "version_major": 2,
       "version_minor": 0
      },
      "text/plain": [
       "HBox(children=(FloatProgress(value=0.0, max=256.0), HTML(value='')))"
      ]
     },
     "metadata": {},
     "output_type": "display_data"
    },
    {
     "name": "stderr",
     "output_type": "stream",
     "text": [
      "2020-04-02 16:49:17,188 [INFO/MainProcess] <ipython-input-6-d1de5f21703a>.<module> : MS-DIAL identifications\n"
     ]
    },
    {
     "name": "stdout",
     "output_type": "stream",
     "text": [
      "\r"
     ]
    },
    {
     "data": {
      "application/vnd.jupyter.widget-view+json": {
       "model_id": "",
       "version_major": 2,
       "version_minor": 0
      },
      "text/plain": [
       "HBox(children=(FloatProgress(value=0.0, max=312.0), HTML(value='')))"
      ]
     },
     "metadata": {},
     "output_type": "display_data"
    },
    {
     "name": "stderr",
     "output_type": "stream",
     "text": [
      "2020-04-02 16:49:31,489 [INFO/MainProcess] <ipython-input-6-d1de5f21703a>.<module> : Process LECO beer aging\n",
      "2020-04-02 16:49:31,491 [INFO/MainProcess] <ipython-input-6-d1de5f21703a>.<module> : MSHub identifications\n"
     ]
    },
    {
     "name": "stdout",
     "output_type": "stream",
     "text": [
      "\r"
     ]
    },
    {
     "data": {
      "application/vnd.jupyter.widget-view+json": {
       "model_id": "",
       "version_major": 2,
       "version_minor": 0
      },
      "text/plain": [
       "HBox(children=(FloatProgress(value=0.0, max=746.0), HTML(value='')))"
      ]
     },
     "metadata": {},
     "output_type": "display_data"
    },
    {
     "name": "stderr",
     "output_type": "stream",
     "text": [
      "2020-04-02 16:51:20,617 [INFO/MainProcess] <ipython-input-6-d1de5f21703a>.<module> : MZmine identifications\n"
     ]
    },
    {
     "name": "stdout",
     "output_type": "stream",
     "text": [
      "\r"
     ]
    },
    {
     "data": {
      "application/vnd.jupyter.widget-view+json": {
       "model_id": "",
       "version_major": 2,
       "version_minor": 0
      },
      "text/plain": [
       "HBox(children=(FloatProgress(value=0.0, max=936.0), HTML(value='')))"
      ]
     },
     "metadata": {},
     "output_type": "display_data"
    },
    {
     "name": "stderr",
     "output_type": "stream",
     "text": [
      "2020-04-02 16:52:17,171 [INFO/MainProcess] <ipython-input-6-d1de5f21703a>.<module> : MS-DIAL identifications\n"
     ]
    },
    {
     "name": "stdout",
     "output_type": "stream",
     "text": [
      "\r"
     ]
    },
    {
     "data": {
      "application/vnd.jupyter.widget-view+json": {
       "model_id": "",
       "version_major": 2,
       "version_minor": 0
      },
      "text/plain": [
       "HBox(children=(FloatProgress(value=0.0, max=1568.0), HTML(value='')))"
      ]
     },
     "metadata": {},
     "output_type": "display_data"
    },
    {
     "name": "stderr",
     "output_type": "stream",
     "text": [
      "2020-04-02 16:54:42,983 [INFO/MainProcess] <ipython-input-6-d1de5f21703a>.<module> : Process TMS derivatized blood serum\n",
      "2020-04-02 16:54:42,984 [INFO/MainProcess] <ipython-input-6-d1de5f21703a>.<module> : MSHub identifications\n"
     ]
    },
    {
     "name": "stdout",
     "output_type": "stream",
     "text": [
      "\r"
     ]
    },
    {
     "data": {
      "application/vnd.jupyter.widget-view+json": {
       "model_id": "",
       "version_major": 2,
       "version_minor": 0
      },
      "text/plain": [
       "HBox(children=(FloatProgress(value=0.0, max=197.0), HTML(value='')))"
      ]
     },
     "metadata": {},
     "output_type": "display_data"
    },
    {
     "name": "stderr",
     "output_type": "stream",
     "text": [
      "2020-04-02 16:55:04,805 [INFO/MainProcess] <ipython-input-6-d1de5f21703a>.<module> : MZmine identifications\n"
     ]
    },
    {
     "name": "stdout",
     "output_type": "stream",
     "text": [
      "\r"
     ]
    },
    {
     "data": {
      "application/vnd.jupyter.widget-view+json": {
       "model_id": "",
       "version_major": 2,
       "version_minor": 0
      },
      "text/plain": [
       "HBox(children=(FloatProgress(value=0.0, max=462.0), HTML(value='')))"
      ]
     },
     "metadata": {},
     "output_type": "display_data"
    },
    {
     "name": "stderr",
     "output_type": "stream",
     "text": [
      "2020-04-02 16:55:37,351 [INFO/MainProcess] <ipython-input-6-d1de5f21703a>.<module> : MS-DIAL identifications\n"
     ]
    },
    {
     "name": "stdout",
     "output_type": "stream",
     "text": [
      "\r"
     ]
    },
    {
     "data": {
      "application/vnd.jupyter.widget-view+json": {
       "model_id": "",
       "version_major": 2,
       "version_minor": 0
      },
      "text/plain": [
       "HBox(children=(FloatProgress(value=0.0, max=310.0), HTML(value='')))"
      ]
     },
     "metadata": {},
     "output_type": "display_data"
    },
    {
     "name": "stderr",
     "output_type": "stream",
     "text": [
      "2020-04-02 16:56:01,856 [INFO/MainProcess] <ipython-input-6-d1de5f21703a>.<module> : Process Metabolomics Workbench ST001154\n",
      "2020-04-02 16:56:01,858 [INFO/MainProcess] <ipython-input-6-d1de5f21703a>.<module> : MSHub identifications\n"
     ]
    },
    {
     "name": "stdout",
     "output_type": "stream",
     "text": [
      "\r"
     ]
    },
    {
     "data": {
      "application/vnd.jupyter.widget-view+json": {
       "model_id": "",
       "version_major": 2,
       "version_minor": 0
      },
      "text/plain": [
       "HBox(children=(FloatProgress(value=0.0, max=3791.0), HTML(value='')))"
      ]
     },
     "metadata": {},
     "output_type": "display_data"
    },
    {
     "name": "stderr",
     "output_type": "stream",
     "text": [
      "2020-04-02 16:57:03,711 [INFO/MainProcess] <ipython-input-6-d1de5f21703a>.<module> : MZmine identifications\n"
     ]
    },
    {
     "name": "stdout",
     "output_type": "stream",
     "text": [
      "\r"
     ]
    },
    {
     "data": {
      "application/vnd.jupyter.widget-view+json": {
       "model_id": "",
       "version_major": 2,
       "version_minor": 0
      },
      "text/plain": [
       "HBox(children=(FloatProgress(value=0.0, max=2233.0), HTML(value='')))"
      ]
     },
     "metadata": {},
     "output_type": "display_data"
    },
    {
     "name": "stderr",
     "output_type": "stream",
     "text": [
      "2020-04-02 16:57:22,234 [INFO/MainProcess] <ipython-input-6-d1de5f21703a>.<module> : MS-DIAL identifications\n"
     ]
    },
    {
     "name": "stdout",
     "output_type": "stream",
     "text": [
      "\r"
     ]
    },
    {
     "data": {
      "application/vnd.jupyter.widget-view+json": {
       "model_id": "",
       "version_major": 2,
       "version_minor": 0
      },
      "text/plain": [
       "HBox(children=(FloatProgress(value=0.0, max=1760.0), HTML(value='')))"
      ]
     },
     "metadata": {},
     "output_type": "display_data"
    },
    {
     "name": "stderr",
     "output_type": "stream",
     "text": [
      "2020-04-02 16:58:01,838 [INFO/MainProcess] <ipython-input-6-d1de5f21703a>.<module> : Process LECO beer aging\n",
      "2020-04-02 16:58:01,840 [INFO/MainProcess] <ipython-input-6-d1de5f21703a>.<module> : MSHub identifications\n"
     ]
    },
    {
     "name": "stdout",
     "output_type": "stream",
     "text": [
      "\r"
     ]
    },
    {
     "data": {
      "application/vnd.jupyter.widget-view+json": {
       "model_id": "",
       "version_major": 2,
       "version_minor": 0
      },
      "text/plain": [
       "HBox(children=(FloatProgress(value=0.0, max=6464.0), HTML(value='')))"
      ]
     },
     "metadata": {},
     "output_type": "display_data"
    },
    {
     "name": "stderr",
     "output_type": "stream",
     "text": [
      "2020-04-02 17:05:37,772 [INFO/MainProcess] <ipython-input-6-d1de5f21703a>.<module> : MZmine identifications\n"
     ]
    },
    {
     "name": "stdout",
     "output_type": "stream",
     "text": [
      "\r"
     ]
    },
    {
     "data": {
      "application/vnd.jupyter.widget-view+json": {
       "model_id": "",
       "version_major": 2,
       "version_minor": 0
      },
      "text/plain": [
       "HBox(children=(FloatProgress(value=0.0, max=9169.0), HTML(value='')))"
      ]
     },
     "metadata": {},
     "output_type": "display_data"
    },
    {
     "name": "stderr",
     "output_type": "stream",
     "text": [
      "2020-04-02 17:09:09,462 [INFO/MainProcess] <ipython-input-6-d1de5f21703a>.<module> : MS-DIAL identifications\n"
     ]
    },
    {
     "name": "stdout",
     "output_type": "stream",
     "text": [
      "\r"
     ]
    },
    {
     "data": {
      "application/vnd.jupyter.widget-view+json": {
       "model_id": "",
       "version_major": 2,
       "version_minor": 0
      },
      "text/plain": [
       "HBox(children=(FloatProgress(value=0.0, max=13051.0), HTML(value='')))"
      ]
     },
     "metadata": {},
     "output_type": "display_data"
    },
    {
     "name": "stderr",
     "output_type": "stream",
     "text": [
      "2020-04-02 17:17:11,796 [INFO/MainProcess] <ipython-input-6-d1de5f21703a>.<module> : Process TMS derivatized blood serum\n",
      "2020-04-02 17:17:11,797 [INFO/MainProcess] <ipython-input-6-d1de5f21703a>.<module> : MSHub identifications\n"
     ]
    },
    {
     "name": "stdout",
     "output_type": "stream",
     "text": [
      "\r"
     ]
    },
    {
     "data": {
      "application/vnd.jupyter.widget-view+json": {
       "model_id": "",
       "version_major": 2,
       "version_minor": 0
      },
      "text/plain": [
       "HBox(children=(FloatProgress(value=0.0, max=1366.0), HTML(value='')))"
      ]
     },
     "metadata": {},
     "output_type": "display_data"
    },
    {
     "name": "stderr",
     "output_type": "stream",
     "text": [
      "2020-04-02 17:18:18,064 [INFO/MainProcess] <ipython-input-6-d1de5f21703a>.<module> : MZmine identifications\n"
     ]
    },
    {
     "name": "stdout",
     "output_type": "stream",
     "text": [
      "\r"
     ]
    },
    {
     "data": {
      "application/vnd.jupyter.widget-view+json": {
       "model_id": "",
       "version_major": 2,
       "version_minor": 0
      },
      "text/plain": [
       "HBox(children=(FloatProgress(value=0.0, max=4104.0), HTML(value='')))"
      ]
     },
     "metadata": {},
     "output_type": "display_data"
    },
    {
     "name": "stderr",
     "output_type": "stream",
     "text": [
      "2020-04-02 17:19:51,857 [INFO/MainProcess] <ipython-input-6-d1de5f21703a>.<module> : MS-DIAL identifications\n"
     ]
    },
    {
     "name": "stdout",
     "output_type": "stream",
     "text": [
      "\r"
     ]
    },
    {
     "data": {
      "application/vnd.jupyter.widget-view+json": {
       "model_id": "",
       "version_major": 2,
       "version_minor": 0
      },
      "text/plain": [
       "HBox(children=(FloatProgress(value=0.0, max=2630.0), HTML(value='')))"
      ]
     },
     "metadata": {},
     "output_type": "display_data"
    },
    {
     "name": "stdout",
     "output_type": "stream",
     "text": [
      "\r"
     ]
    }
   ],
   "source": [
    "task_ids = {\n",
    "    'Metabolomics Workbench ST001154': {\n",
    "        'MSHub': '4f2de61a', 'MZmine': '021f4818', 'MS-DIAL': '16d202bd'},\n",
    "    'LECO beer aging': {\n",
    "        'MSHub': '35445438', 'MZmine': '37971f05', 'MS-DIAL': 'dd21a47e'},\n",
    "    'TMS derivatized blood serum': {\n",
    "        'MSHub': 'c367af69', 'MZmine': '0e7ba6e3', 'MS-DIAL': '7e5cc6bc'}}\n",
    "\n",
    "identifications = collections.defaultdict(\n",
    "    lambda: collections.defaultdict(dict))\n",
    "for top in (1, 10):\n",
    "    for dataset, tools in task_ids.items():\n",
    "        logging.info('Process %s', dataset)\n",
    "        for tool, task_id in tools.items():\n",
    "            logging.info('%s identifications', tool)\n",
    "            # Read the GNPS task file.\n",
    "            ids = (\n",
    "                pd.read_csv(\n",
    "                    os.path.join(\n",
    "                        data_dir, f'MOLECULAR-LIBRARYSEARCH-GC-{task_id}-'\n",
    "                        f'view_all_annotations_DB-main.tsv'),\n",
    "                    sep='\\t',\n",
    "                    usecols=['#Scan#', 'INCHI', 'Smiles', 'MQScore'],\n",
    "                    skipinitialspace=True)\n",
    "                .dropna()\n",
    "                .sort_values(['#Scan#', 'MQScore'], ascending=[True, False])\n",
    "                .groupby('#Scan#').head(top))\n",
    "            ids = ids[ids['MQScore'] > 0.7]\n",
    "            # Get InChIKeys and subclasses for all identifications.\n",
    "            ids['InChIKey'] = ids['Smiles'].apply(smiles_to_inchikey)\n",
    "            ids['subclass'] = \\\n",
    "                ids['InChIKey'].progress_apply(inchikey_to_subclass)\n",
    "            ids.dropna()\n",
    "            \n",
    "            identifications[top][dataset][tool] = ids\n",
    "\n",
    "matched = get_matched_perc(identifications)\n",
    "matched.to_csv('deconvolution_comparison.csv', index=False)"
   ]
  },
  {
   "cell_type": "code",
   "execution_count": 7,
   "metadata": {},
   "outputs": [
    {
     "data": {
      "image/png": "[encoded data removed]",
      "text/plain": [
       "<Figure size 1047.61x864 with 6 Axes>"
      ]
     },
     "metadata": {},
     "output_type": "display_data"
    }
   ],
   "source": [
    "g = sns.catplot(x='Tool', y='Compounds identified', hue='Type', data=matched,\n",
    "                row='Dataset', col='Top', kind='bar', height=4, aspect=1.5,\n",
    "                legend=False)\n",
    "\n",
    "for ax in g.axes.ravel():\n",
    "    ax.set_ylim(0, 1)\n",
    "    ax.yaxis.set_major_formatter(mticker.PercentFormatter(1))\n",
    "\n",
    "g.add_legend(fontsize='medium', borderpad=2)\n",
    "\n",
    "sns.despine()\n",
    "\n",
    "plt.savefig('deconvolution_comparison.png', dpi=300)\n",
    "plt.show()\n",
    "plt.close()"
   ]
  },
  {
   "cell_type": "code",
   "execution_count": 8,
   "metadata": {},
   "outputs": [],
   "source": [
    "logging.shutdown()"
   ]
  }
 ],
 "metadata": {
  "kernelspec": {
   "display_name": "Python 3",
   "language": "python",
   "name": "python3"
  },
  "language_info": {
   "codemirror_mode": {
    "name": "ipython",
    "version": 3
   },
   "file_extension": ".py",
   "mimetype": "text/x-python",
   "name": "python",
   "nbconvert_exporter": "python",
   "pygments_lexer": "ipython3",
   "version": "3.7.3"
  }
 },
 "nbformat": 4,
 "nbformat_minor": 2
}
